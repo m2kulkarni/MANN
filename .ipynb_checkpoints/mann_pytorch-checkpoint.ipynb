{
 "cells": [
  {
   "cell_type": "code",
   "execution_count": 2,
   "metadata": {},
   "outputs": [],
   "source": [
    "import torch\n",
    "import torch.nn as nn\n",
    "import glob\n",
    "import os\n",
    "import sys\n",
    "import numpy as np \n",
    "import random\n",
    "import matplotlib.pyplot as plt \n",
    "from sklearn.utils import shuffle\n",
    "from torch.utils.tensorboard import SummaryWriter"
   ]
  },
  {
   "cell_type": "code",
   "execution_count": 3,
   "metadata": {},
   "outputs": [],
   "source": [
    "def get_images(paths, labels, nb_samples=None, shuffle=True):\n",
    "\n",
    "    if nb_samples is not None:\n",
    "        sampler = lambda x: random.sample(x, nb_samples)\n",
    "    else:\n",
    "        sampler = lambda x: x\n",
    "    \n",
    "    labels_images = [(i, os.path.join(path, image)) for i, path in zip(labels, paths) for image in sampler(os.listdir(path))]\n",
    "    \n",
    "    if shuffle is None:\n",
    "        random.shuffle(labels_images)\n",
    "    \n",
    "    return labels_images\n"
   ]
  },
  {
   "cell_type": "code",
   "execution_count": 4,
   "metadata": {},
   "outputs": [
    {
     "data": {
      "text/plain": [
       "True"
      ]
     },
     "execution_count": 4,
     "metadata": {},
     "output_type": "execute_result"
    }
   ],
   "source": [
    "torch.cuda.is_available()"
   ]
  },
  {
   "cell_type": "code",
   "execution_count": 5,
   "metadata": {},
   "outputs": [
    {
     "data": {
      "text/plain": [
       "[(array([1., 0., 0.]), 'omniglot_resized/Angelic/character01/0965_13.png'),\n",
       " (array([1., 0., 0.]), 'omniglot_resized/Angelic/character01/0965_02.png'),\n",
       " (array([1., 0., 0.]), 'omniglot_resized/Angelic/character01/0965_17.png'),\n",
       " (array([1., 0., 0.]), 'omniglot_resized/Angelic/character01/0965_18.png'),\n",
       " (array([1., 0., 0.]), 'omniglot_resized/Angelic/character01/0965_16.png'),\n",
       " (array([0., 1., 0.]), 'omniglot_resized/Angelic/character02/0966_08.png'),\n",
       " (array([0., 1., 0.]), 'omniglot_resized/Angelic/character02/0966_10.png'),\n",
       " (array([0., 1., 0.]), 'omniglot_resized/Angelic/character02/0966_13.png'),\n",
       " (array([0., 1., 0.]), 'omniglot_resized/Angelic/character02/0966_19.png'),\n",
       " (array([0., 1., 0.]), 'omniglot_resized/Angelic/character02/0966_20.png'),\n",
       " (array([0., 0., 1.]), 'omniglot_resized/Angelic/character03/0967_07.png'),\n",
       " (array([0., 0., 1.]), 'omniglot_resized/Angelic/character03/0967_08.png'),\n",
       " (array([0., 0., 1.]), 'omniglot_resized/Angelic/character03/0967_03.png'),\n",
       " (array([0., 0., 1.]), 'omniglot_resized/Angelic/character03/0967_15.png'),\n",
       " (array([0., 0., 1.]), 'omniglot_resized/Angelic/character03/0967_16.png')]"
      ]
     },
     "execution_count": 5,
     "metadata": {},
     "output_type": "execute_result"
    }
   ],
   "source": [
    "get_images(['omniglot_resized/Angelic/character01', 'omniglot_resized/Angelic/character02','omniglot_resized/Angelic/character03'], np.identity(3), nb_samples=5)"
   ]
  },
  {
   "cell_type": "code",
   "execution_count": 6,
   "metadata": {},
   "outputs": [],
   "source": [
    "def image_file_to_array(filename, dim_input):\n",
    "\n",
    "    image = np.asarray(plt.imread(filename))\n",
    "    plt.imshow(1-image, cmap='gray', )\n",
    "    image = np.reshape(image, [dim_input])\n",
    "    image = 1. - image.astype(np.float32) / 255.\n",
    "    \n",
    "\n",
    "    return image"
   ]
  },
  {
   "cell_type": "code",
   "execution_count": 7,
   "metadata": {},
   "outputs": [
    {
     "data": {
      "image/png": "[encoded data removed]",
      "text/plain": [
       "<Figure size 432x288 with 1 Axes>"
      ]
     },
     "metadata": {
      "needs_background": "light"
     },
     "output_type": "display_data"
    }
   ],
   "source": [
    "im = image_file_to_array(\"omniglot_resized/Angelic/character01/0965_01.png\", 784)"
   ]
  },
  {
   "cell_type": "code",
   "execution_count": 8,
   "metadata": {},
   "outputs": [
    {
     "data": {
      "text/plain": [
       "numpy.ndarray"
      ]
     },
     "execution_count": 8,
     "metadata": {},
     "output_type": "execute_result"
    }
   ],
   "source": [
    "type(im)"
   ]
  },
  {
   "cell_type": "code",
   "execution_count": 9,
   "metadata": {},
   "outputs": [],
   "source": [
    "class DataGenerator(object):\n",
    "\n",
    "    def __init__(self, num_classes, num_samples_per_class, config={}):\n",
    "\n",
    "        self.num_classes = num_classes\n",
    "        self.num_samples_per_class = num_samples_per_class\n",
    "        \n",
    "        data_folder = config.get('data_folder', './omniglot_resized')\n",
    "\n",
    "        self.image_size = config.get('image_size', (28, 28))\n",
    "        self.input_dim = np.prod(self.image_size)\n",
    "        self.output_dim = self.num_classes\n",
    "\n",
    "        character_folder = [os.path.join(data_folder, alphabet, character)\n",
    "                            for alphabet in os.listdir(data_folder)\n",
    "                            for character in os.listdir(os.path.join(data_folder, alphabet))]\n",
    "        \n",
    "        random.seed(1)\n",
    "        random.shuffle(character_folder)\n",
    "\n",
    "        meta_train = 1100 \n",
    "        meta_val = 100\n",
    "\n",
    "        self.meta_train_characters = character_folder[: meta_train]\n",
    "        self.meta_val_characters = character_folder[meta_train: meta_train+meta_val]\n",
    "        self.meta_test_characters = character_folder[meta_train+meta_val: ]\n",
    "\n",
    "    def sample_batch(self, batch_type, batch_size):\n",
    "        \"\"\"\n",
    "        Samples a batch for training, validation, or testing\n",
    "        Args:\n",
    "            batch_type: train/val/test\n",
    "        Returns:\n",
    "            A a tuple of (1) Image batch and (2) Label batch where\n",
    "            image batch has shape [B, K, N, 784] and label batch has shape [B, K, N, N]\n",
    "            where B is batch size, K is number of samples per class, N is number of classes\n",
    "        \"\"\"\n",
    "\n",
    "        if batch_type == \"train\":\n",
    "            folders = self.meta_train_characters\n",
    "        if batch_type == \"test\":\n",
    "            folders = self.meta_test_characters\n",
    "        if batch_type == \"val\":\n",
    "            folders = self.meta_val_characters\n",
    "\n",
    "        num_batches = len(folders)//batch_size\n",
    "        folders = folders[:num_batches*batch_size]\n",
    "        all_image_batches = []\n",
    "        all_label_batches = []\n",
    "\n",
    "        for batch_idx in range(batch_size):\n",
    "            sample_classes =  random.sample(folders, self.num_classes)\n",
    "            #sample_classes = folders[batch_idx*self.num_classes : (batch_idx+1)*self.num_classes]\n",
    "            one_hot_labels = np.identity(self.num_classes)\n",
    "\n",
    "            labels_images = get_images(sample_classes, one_hot_labels, nb_samples=self.num_samples_per_class, shuffle=False)\n",
    "            train_images = []\n",
    "            train_labels = []    \n",
    "            for sample_idx, (labels, images) in enumerate(labels_images):\n",
    "                train_images.append(image_file_to_array(images, 784))\n",
    "                train_labels.append(labels)\n",
    "\n",
    "            \n",
    "            train_images, train_labels = shuffle(train_images, train_labels)\n",
    "\n",
    "            labels = np.vstack(train_labels).reshape((-1, self.num_classes, self.num_classes))  # K, N, N\n",
    "            images = np.vstack(train_images).reshape((self.num_samples_per_class, self.num_classes, -1))  # K x N x 784\n",
    "\n",
    "            all_label_batches.append(labels)\n",
    "            all_image_batches.append(images)\n",
    "\n",
    "        all_image_batches = np.stack(all_image_batches).astype(np.float32)\n",
    "        all_label_batches = np.stack(all_label_batches).astype(np.float32)\n",
    "\n",
    "        return all_label_batches, all_image_batches      \n"
   ]
  },
  {
   "cell_type": "code",
   "execution_count": 10,
   "metadata": {},
   "outputs": [],
   "source": [
    "N = 5\n",
    "K = 2\n",
    "B = 4\n",
    "\n",
    "def plot_images(imgs, labels, n_col=N, title=None):\n",
    "    plt.figure(figsize=(8, K+1))\n",
    "    n_row = np.ceil(len(imgs) / n_col).astype(int)\n",
    "    for img_idx, (img, label) in enumerate(zip(imgs, labels)):\n",
    "        plt.subplot(n_row, n_col, img_idx+1)\n",
    "        plt.imshow(img, cmap='gray')\n",
    "        #plt.axis('off')\n",
    "        plt.title(label.argmax())\n",
    "\n",
    "    if title:\n",
    "        plt.suptitle(title)\n",
    "    plt.show()"
   ]
  },
  {
   "cell_type": "code",
   "execution_count": 11,
   "metadata": {},
   "outputs": [
    {
     "data": {
      "text/plain": [
       "(4, 3, 5, 784)"
      ]
     },
     "execution_count": 11,
     "metadata": {},
     "output_type": "execute_result"
    },
    {
     "data": {
      "image/png": "[encoded data removed]",
      "text/plain": [
       "<Figure size 432x288 with 1 Axes>"
      ]
     },
     "metadata": {
      "needs_background": "light"
     },
     "output_type": "display_data"
    }
   ],
   "source": [
    "ordered_generator = DataGenerator(N, K+1)\n",
    "batch_labels, batch_imgs = ordered_generator.sample_batch('train', B)\n",
    "\n",
    "batch_imgs.shape"
   ]
  },
  {
   "cell_type": "code",
   "execution_count": 12,
   "metadata": {},
   "outputs": [
    {
     "data": {
      "image/png": "[encoded data removed]",
      "text/plain": [
       "<Figure size 576x216 with 10 Axes>"
      ]
     },
     "metadata": {
      "needs_background": "light"
     },
     "output_type": "display_data"
    },
    {
     "data": {
      "image/png": "[encoded data removed]",
      "text/plain": [
       "<Figure size 576x216 with 5 Axes>"
      ]
     },
     "metadata": {
      "needs_background": "light"
     },
     "output_type": "display_data"
    },
    {
     "data": {
      "image/png": "[encoded data removed]",
      "text/plain": [
       "<Figure size 576x216 with 10 Axes>"
      ]
     },
     "metadata": {
      "needs_background": "light"
     },
     "output_type": "display_data"
    },
    {
     "data": {
      "image/png": "[encoded data removed]",
      "text/plain": [
       "<Figure size 576x216 with 5 Axes>"
      ]
     },
     "metadata": {
      "needs_background": "light"
     },
     "output_type": "display_data"
    },
    {
     "data": {
      "image/png": "[encoded data removed]",
      "text/plain": [
       "<Figure size 576x216 with 10 Axes>"
      ]
     },
     "metadata": {
      "needs_background": "light"
     },
     "output_type": "display_data"
    },
    {
     "data": {
      "image/png": "[encoded data removed]",
      "text/plain": [
       "<Figure size 576x216 with 5 Axes>"
      ]
     },
     "metadata": {
      "needs_background": "light"
     },
     "output_type": "display_data"
    },
    {
     "data": {
      "image/png": "[encoded data removed]",
      "text/plain": [
       "<Figure size 576x216 with 10 Axes>"
      ]
     },
     "metadata": {
      "needs_background": "light"
     },
     "output_type": "display_data"
    },
    {
     "data": {
      "image/png": "[encoded data removed]",
      "text/plain": [
       "<Figure size 576x216 with 5 Axes>"
      ]
     },
     "metadata": {
      "needs_background": "light"
     },
     "output_type": "display_data"
    }
   ],
   "source": [
    "for i in range(B):\n",
    "    images, labels = batch_imgs[i], batch_labels[i]\n",
    "    train_images, train_labels = images[:-1].reshape(-1, 28, 28), labels[:-1].reshape(-1, N)  # K-1, N, N\n",
    "    test_images, test_labels = images[-1:].reshape(-1, 28, 28), labels[-1:].reshape(-1, N) # 1, N, N\n",
    "\n",
    "    plot_images(train_images, train_labels, n_col=N, title=f'Train #{i+1}')\n",
    "    plot_images(test_images, test_labels, n_col=N, title=f'Test #{i+1}')"
   ]
  },
  {
   "cell_type": "code",
   "execution_count": 13,
   "metadata": {},
   "outputs": [],
   "source": [
    "device = torch.device('cpu')\n",
    "\n",
    "if torch.cuda.is_available():\n",
    "    device = torch.device('cuda')\n",
    "    "
   ]
  },
  {
   "cell_type": "code",
   "execution_count": 14,
   "metadata": {},
   "outputs": [],
   "source": [
    "class MANN(nn.Module):\n",
    "\n",
    "    def __init__(self, num_classes, num_samples, embed_size=784):\n",
    "        super(MANN, self).__init__()\n",
    "        self.num_classes = num_classes\n",
    "        self.num_samples = num_samples\n",
    "        self.embed_size = embed_size\n",
    "        self.lstm1 = nn.LSTM(embed_size+num_classes, 128) #Pytorch always has return_sequences=True\n",
    "        self.lstm2 = nn.LSTM(128, num_classes)\n",
    "\n",
    "    def forward(self, inputs):\n",
    "        x, _ = self.lstm1(inputs)\n",
    "        x, _ = self.lstm2(x)\n",
    "        last_n_step_logits = x[-self.num_classes:].transpose(0,1).reshape(-1, self.num_classes)\n",
    "        return last_n_step_logits\n",
    "\n",
    "        "
   ]
  },
  {
   "cell_type": "code",
   "execution_count": 28,
   "metadata": {},
   "outputs": [
    {
     "data": {
      "text/plain": [
       "True"
      ]
     },
     "execution_count": 28,
     "metadata": {},
     "output_type": "execute_result"
    }
   ],
   "source": [
    "torch.cuda.is_available()"
   ]
  },
  {
   "cell_type": "code",
   "execution_count": 29,
   "metadata": {},
   "outputs": [],
   "source": [
    "N = 5\n",
    "K = 3\n",
    "B = 128\n",
    "D = 784"
   ]
  },
  {
   "cell_type": "code",
   "execution_count": 30,
   "metadata": {},
   "outputs": [],
   "source": [
    "def evaluate(model, data_generator, step, optimizer, criterion, device):\n",
    "    \n",
    "    model.eval()\n",
    "    with torch.no_grad():\n",
    "        print(\"*\" * 5 + \"Iter \" + str(step) + \"*\" * 5)\n",
    "        batch_labels, batch_imgs = data_generator.sample_batch('test', B)\n",
    "        inputs, targets = prep_data(batch_imgs, batch_labels, device)\n",
    "        test_set_logits = model(inputs)\n",
    "        pred = test_set_logits.argmax(axis=1)\n",
    "        \n",
    "        test_loss = criterion(test_set_logits, targets)\n",
    "        test_accuracy = (1.0 * (pred==targets)).mean().item()\n",
    "        \n",
    "        return test_loss, test_accuracy\n",
    "        \n",
    "        "
   ]
  },
  {
   "cell_type": "code",
   "execution_count": 31,
   "metadata": {},
   "outputs": [],
   "source": [
    "def prep_data(batch_imgs, batch_labels, device):\n",
    "    \n",
    "    B, K, N, D = batch_imgs.shape\n",
    "    batch_imgs = batch_imgs.reshape(B, -1, D)\n",
    "    test_labels = batch_labels[:, -1:]\n",
    "    train_labels = np.concatenate((batch_labels[:, :-1], np.zeros_like(test_labels)), axis=1).reshape((B, -1, N))\n",
    "    inputs = torch.tensor(np.dstack((batch_imgs, train_labels))).transpose(0,1).to(device)\n",
    "    targets = torch.tensor(test_labels.squeeze(1).reshape((-1, N)).argmax(axis=1)).to(device)\n",
    "\n",
    "    return inputs, targets\n",
    "\n",
    "    "
   ]
  },
  {
   "cell_type": "code",
   "execution_count": 32,
   "metadata": {},
   "outputs": [],
   "source": [
    "def train(model, data_generator, optimizer, criterion, device, save=True):\n",
    "    \n",
    "    exp_name = f\"_Exp_N={N}_K={K}_B={B}\"\n",
    "    writer = SummaryWriter(comment=exp_name)\n",
    "    \n",
    "    n_step = 20000\n",
    "   \n",
    "    loss_val = []\n",
    "    test_accs = []\n",
    "    for step in range(n_step):\n",
    "        model.train()\n",
    "        batch_labels, batch_imgs = data_generator.sample_batch('train', B)\n",
    "        inputs, targets = prep_data(batch_imgs, batch_labels, device)\n",
    "        test_set_logits = model(inputs)\n",
    "        \n",
    "        optimizer.zero_grad()\n",
    "        loss = criterion(test_set_logits, targets)\n",
    "        loss.backward()\n",
    "        print(loss)\n",
    "        \n",
    "        writer.add_scalar(\"Loss/Train\", loss, step)\n",
    "        \n",
    "        if step%50 == 0:\n",
    "            test_loss, test_accuracy = evaluate(model, data_generator, step, optimizer, criterion, device)\n",
    "            print(\"Train Loss:\", loss.item(), \"Test Loss:\", test_loss.item())\n",
    "            print(\"Test Accuracy\", test_accuracy)\n",
    "            test_accs.append(test_accuracy)\n",
    "            writer.add_scalar(\"Loss/Test\", test_loss, step)\n",
    "            writer.add_scalar(\"Accuracy/Test\", test_accuracy, step)\n",
    "            \n",
    "        optimizer.step()\n",
    "    \n",
    "    plt.plot(range(len(test_accs)), test_accs)\n",
    "    plt.xlabel(\"Step (x 50)\")\n",
    "    plt.ylabel(\"Test accuracy\")\n",
    "    plt.savefig(f\"models/train_{exp_name}.png\")\n",
    "    if save:\n",
    "        torch.save(model.state_dict(), f\"models/model_{exp_name}\")\n",
    "    return model\n",
    "    "
   ]
  },
  {
   "cell_type": "code",
   "execution_count": null,
   "metadata": {},
   "outputs": [
    {
     "name": "stdout",
     "output_type": "stream",
     "text": [
      "tensor(1.6180, device='cuda:0', grad_fn=<NllLossBackward>)\n",
      "*****Iter 0*****\n",
      "Train Loss: 1.617984414100647 Test Loss: 1.6205990314483643\n",
      "Test Accuracy 0.21875\n",
      "tensor(1.6204, device='cuda:0', grad_fn=<NllLossBackward>)\n",
      "tensor(1.6061, device='cuda:0', grad_fn=<NllLossBackward>)\n",
      "tensor(1.6137, device='cuda:0', grad_fn=<NllLossBackward>)\n",
      "tensor(1.6099, device='cuda:0', grad_fn=<NllLossBackward>)\n",
      "tensor(1.6136, device='cuda:0', grad_fn=<NllLossBackward>)\n",
      "tensor(1.6088, device='cuda:0', grad_fn=<NllLossBackward>)\n",
      "tensor(1.6121, device='cuda:0', grad_fn=<NllLossBackward>)\n",
      "tensor(1.6098, device='cuda:0', grad_fn=<NllLossBackward>)\n",
      "tensor(1.6093, device='cuda:0', grad_fn=<NllLossBackward>)\n",
      "tensor(1.6088, device='cuda:0', grad_fn=<NllLossBackward>)\n",
      "tensor(1.6090, device='cuda:0', grad_fn=<NllLossBackward>)\n",
      "tensor(1.6114, device='cuda:0', grad_fn=<NllLossBackward>)\n",
      "tensor(1.6103, device='cuda:0', grad_fn=<NllLossBackward>)\n",
      "tensor(1.6089, device='cuda:0', grad_fn=<NllLossBackward>)\n",
      "tensor(1.6091, device='cuda:0', grad_fn=<NllLossBackward>)\n",
      "tensor(1.6092, device='cuda:0', grad_fn=<NllLossBackward>)\n",
      "tensor(1.6089, device='cuda:0', grad_fn=<NllLossBackward>)\n",
      "tensor(1.6097, device='cuda:0', grad_fn=<NllLossBackward>)\n",
      "tensor(1.6100, device='cuda:0', grad_fn=<NllLossBackward>)\n",
      "tensor(1.6109, device='cuda:0', grad_fn=<NllLossBackward>)\n",
      "tensor(1.6108, device='cuda:0', grad_fn=<NllLossBackward>)\n",
      "tensor(1.6086, device='cuda:0', grad_fn=<NllLossBackward>)\n",
      "tensor(1.6101, device='cuda:0', grad_fn=<NllLossBackward>)\n",
      "tensor(1.6101, device='cuda:0', grad_fn=<NllLossBackward>)\n",
      "tensor(1.6103, device='cuda:0', grad_fn=<NllLossBackward>)\n",
      "tensor(1.6092, device='cuda:0', grad_fn=<NllLossBackward>)\n",
      "tensor(1.6091, device='cuda:0', grad_fn=<NllLossBackward>)\n",
      "tensor(1.6081, device='cuda:0', grad_fn=<NllLossBackward>)\n",
      "tensor(1.6107, device='cuda:0', grad_fn=<NllLossBackward>)\n",
      "tensor(1.6098, device='cuda:0', grad_fn=<NllLossBackward>)\n",
      "tensor(1.6096, device='cuda:0', grad_fn=<NllLossBackward>)\n",
      "tensor(1.6098, device='cuda:0', grad_fn=<NllLossBackward>)\n",
      "tensor(1.6091, device='cuda:0', grad_fn=<NllLossBackward>)\n",
      "tensor(1.6097, device='cuda:0', grad_fn=<NllLossBackward>)\n",
      "tensor(1.6098, device='cuda:0', grad_fn=<NllLossBackward>)\n",
      "tensor(1.6095, device='cuda:0', grad_fn=<NllLossBackward>)\n",
      "tensor(1.6103, device='cuda:0', grad_fn=<NllLossBackward>)\n",
      "tensor(1.6088, device='cuda:0', grad_fn=<NllLossBackward>)\n",
      "tensor(1.6094, device='cuda:0', grad_fn=<NllLossBackward>)\n",
      "tensor(1.6099, device='cuda:0', grad_fn=<NllLossBackward>)\n",
      "tensor(1.6100, device='cuda:0', grad_fn=<NllLossBackward>)\n",
      "tensor(1.6105, device='cuda:0', grad_fn=<NllLossBackward>)\n",
      "tensor(1.6101, device='cuda:0', grad_fn=<NllLossBackward>)\n",
      "tensor(1.6103, device='cuda:0', grad_fn=<NllLossBackward>)\n",
      "tensor(1.6103, device='cuda:0', grad_fn=<NllLossBackward>)\n",
      "tensor(1.6094, device='cuda:0', grad_fn=<NllLossBackward>)\n",
      "tensor(1.6095, device='cuda:0', grad_fn=<NllLossBackward>)\n",
      "tensor(1.6092, device='cuda:0', grad_fn=<NllLossBackward>)\n",
      "tensor(1.6096, device='cuda:0', grad_fn=<NllLossBackward>)\n",
      "tensor(1.6094, device='cuda:0', grad_fn=<NllLossBackward>)\n",
      "*****Iter 50*****\n",
      "Train Loss: 1.6094099283218384 Test Loss: 1.6092370748519897\n",
      "Test Accuracy 0.21875\n",
      "tensor(1.6094, device='cuda:0', grad_fn=<NllLossBackward>)\n",
      "tensor(1.6095, device='cuda:0', grad_fn=<NllLossBackward>)\n",
      "tensor(1.6097, device='cuda:0', grad_fn=<NllLossBackward>)\n",
      "tensor(1.6093, device='cuda:0', grad_fn=<NllLossBackward>)\n",
      "tensor(1.6099, device='cuda:0', grad_fn=<NllLossBackward>)\n",
      "tensor(1.6094, device='cuda:0', grad_fn=<NllLossBackward>)\n",
      "tensor(1.6091, device='cuda:0', grad_fn=<NllLossBackward>)\n",
      "tensor(1.6097, device='cuda:0', grad_fn=<NllLossBackward>)\n",
      "tensor(1.6095, device='cuda:0', grad_fn=<NllLossBackward>)\n",
      "tensor(1.6090, device='cuda:0', grad_fn=<NllLossBackward>)\n",
      "tensor(1.6094, device='cuda:0', grad_fn=<NllLossBackward>)\n",
      "tensor(1.6088, device='cuda:0', grad_fn=<NllLossBackward>)\n",
      "tensor(1.6098, device='cuda:0', grad_fn=<NllLossBackward>)\n",
      "tensor(1.6089, device='cuda:0', grad_fn=<NllLossBackward>)\n",
      "tensor(1.6105, device='cuda:0', grad_fn=<NllLossBackward>)\n",
      "tensor(1.6097, device='cuda:0', grad_fn=<NllLossBackward>)\n",
      "tensor(1.6092, device='cuda:0', grad_fn=<NllLossBackward>)\n",
      "tensor(1.6093, device='cuda:0', grad_fn=<NllLossBackward>)\n",
      "tensor(1.6096, device='cuda:0', grad_fn=<NllLossBackward>)\n",
      "tensor(1.6094, device='cuda:0', grad_fn=<NllLossBackward>)\n",
      "tensor(1.6101, device='cuda:0', grad_fn=<NllLossBackward>)\n",
      "tensor(1.6088, device='cuda:0', grad_fn=<NllLossBackward>)\n",
      "tensor(1.6097, device='cuda:0', grad_fn=<NllLossBackward>)\n",
      "tensor(1.6096, device='cuda:0', grad_fn=<NllLossBackward>)\n",
      "tensor(1.6094, device='cuda:0', grad_fn=<NllLossBackward>)\n",
      "tensor(1.6099, device='cuda:0', grad_fn=<NllLossBackward>)\n",
      "tensor(1.6091, device='cuda:0', grad_fn=<NllLossBackward>)\n",
      "tensor(1.6097, device='cuda:0', grad_fn=<NllLossBackward>)\n",
      "tensor(1.6100, device='cuda:0', grad_fn=<NllLossBackward>)\n",
      "tensor(1.6100, device='cuda:0', grad_fn=<NllLossBackward>)\n",
      "tensor(1.6090, device='cuda:0', grad_fn=<NllLossBackward>)\n",
      "tensor(1.6090, device='cuda:0', grad_fn=<NllLossBackward>)\n",
      "tensor(1.6098, device='cuda:0', grad_fn=<NllLossBackward>)\n",
      "tensor(1.6095, device='cuda:0', grad_fn=<NllLossBackward>)\n",
      "tensor(1.6096, device='cuda:0', grad_fn=<NllLossBackward>)\n",
      "tensor(1.6101, device='cuda:0', grad_fn=<NllLossBackward>)\n",
      "tensor(1.6096, device='cuda:0', grad_fn=<NllLossBackward>)\n",
      "tensor(1.6094, device='cuda:0', grad_fn=<NllLossBackward>)\n",
      "tensor(1.6088, device='cuda:0', grad_fn=<NllLossBackward>)\n",
      "tensor(1.6093, device='cuda:0', grad_fn=<NllLossBackward>)\n",
      "tensor(1.6095, device='cuda:0', grad_fn=<NllLossBackward>)\n",
      "tensor(1.6091, device='cuda:0', grad_fn=<NllLossBackward>)\n",
      "tensor(1.6088, device='cuda:0', grad_fn=<NllLossBackward>)\n",
      "tensor(1.6090, device='cuda:0', grad_fn=<NllLossBackward>)\n",
      "tensor(1.6107, device='cuda:0', grad_fn=<NllLossBackward>)\n",
      "tensor(1.6095, device='cuda:0', grad_fn=<NllLossBackward>)\n",
      "tensor(1.6085, device='cuda:0', grad_fn=<NllLossBackward>)\n",
      "tensor(1.6086, device='cuda:0', grad_fn=<NllLossBackward>)\n",
      "tensor(1.6100, device='cuda:0', grad_fn=<NllLossBackward>)\n",
      "tensor(1.6105, device='cuda:0', grad_fn=<NllLossBackward>)\n",
      "*****Iter 100*****\n",
      "Train Loss: 1.6105340719223022 Test Loss: 1.610052466392517\n",
      "Test Accuracy 0.21875\n",
      "tensor(1.6112, device='cuda:0', grad_fn=<NllLossBackward>)\n",
      "tensor(1.6100, device='cuda:0', grad_fn=<NllLossBackward>)\n",
      "tensor(1.6091, device='cuda:0', grad_fn=<NllLossBackward>)\n",
      "tensor(1.6096, device='cuda:0', grad_fn=<NllLossBackward>)\n",
      "tensor(1.6101, device='cuda:0', grad_fn=<NllLossBackward>)\n",
      "tensor(1.6098, device='cuda:0', grad_fn=<NllLossBackward>)\n",
      "tensor(1.6097, device='cuda:0', grad_fn=<NllLossBackward>)\n",
      "tensor(1.6091, device='cuda:0', grad_fn=<NllLossBackward>)\n",
      "tensor(1.6094, device='cuda:0', grad_fn=<NllLossBackward>)\n",
      "tensor(1.6097, device='cuda:0', grad_fn=<NllLossBackward>)\n",
      "tensor(1.6096, device='cuda:0', grad_fn=<NllLossBackward>)\n",
      "tensor(1.6094, device='cuda:0', grad_fn=<NllLossBackward>)\n",
      "tensor(1.6095, device='cuda:0', grad_fn=<NllLossBackward>)\n",
      "tensor(1.6092, device='cuda:0', grad_fn=<NllLossBackward>)\n",
      "tensor(1.6096, device='cuda:0', grad_fn=<NllLossBackward>)\n",
      "tensor(1.6094, device='cuda:0', grad_fn=<NllLossBackward>)\n",
      "tensor(1.6095, device='cuda:0', grad_fn=<NllLossBackward>)\n",
      "tensor(1.6094, device='cuda:0', grad_fn=<NllLossBackward>)\n",
      "tensor(1.6095, device='cuda:0', grad_fn=<NllLossBackward>)\n",
      "tensor(1.6095, device='cuda:0', grad_fn=<NllLossBackward>)\n",
      "tensor(1.6101, device='cuda:0', grad_fn=<NllLossBackward>)\n",
      "tensor(1.6088, device='cuda:0', grad_fn=<NllLossBackward>)\n",
      "tensor(1.6084, device='cuda:0', grad_fn=<NllLossBackward>)\n",
      "tensor(1.6094, device='cuda:0', grad_fn=<NllLossBackward>)\n",
      "tensor(1.6099, device='cuda:0', grad_fn=<NllLossBackward>)\n",
      "tensor(1.6086, device='cuda:0', grad_fn=<NllLossBackward>)\n",
      "tensor(1.6084, device='cuda:0', grad_fn=<NllLossBackward>)\n",
      "tensor(1.6110, device='cuda:0', grad_fn=<NllLossBackward>)\n",
      "tensor(1.6081, device='cuda:0', grad_fn=<NllLossBackward>)\n",
      "tensor(1.6095, device='cuda:0', grad_fn=<NllLossBackward>)\n",
      "tensor(1.6076, device='cuda:0', grad_fn=<NllLossBackward>)\n",
      "tensor(1.6088, device='cuda:0', grad_fn=<NllLossBackward>)\n",
      "tensor(1.6090, device='cuda:0', grad_fn=<NllLossBackward>)\n"
     ]
    },
    {
     "name": "stdout",
     "output_type": "stream",
     "text": [
      "tensor(1.6104, device='cuda:0', grad_fn=<NllLossBackward>)\n",
      "tensor(1.6093, device='cuda:0', grad_fn=<NllLossBackward>)\n",
      "tensor(1.6096, device='cuda:0', grad_fn=<NllLossBackward>)\n",
      "tensor(1.6095, device='cuda:0', grad_fn=<NllLossBackward>)\n",
      "tensor(1.6095, device='cuda:0', grad_fn=<NllLossBackward>)\n",
      "tensor(1.6112, device='cuda:0', grad_fn=<NllLossBackward>)\n",
      "tensor(1.6097, device='cuda:0', grad_fn=<NllLossBackward>)\n",
      "tensor(1.6104, device='cuda:0', grad_fn=<NllLossBackward>)\n",
      "tensor(1.6105, device='cuda:0', grad_fn=<NllLossBackward>)\n",
      "tensor(1.6091, device='cuda:0', grad_fn=<NllLossBackward>)\n",
      "tensor(1.6098, device='cuda:0', grad_fn=<NllLossBackward>)\n",
      "tensor(1.6092, device='cuda:0', grad_fn=<NllLossBackward>)\n",
      "tensor(1.6090, device='cuda:0', grad_fn=<NllLossBackward>)\n",
      "tensor(1.6093, device='cuda:0', grad_fn=<NllLossBackward>)\n",
      "tensor(1.6086, device='cuda:0', grad_fn=<NllLossBackward>)\n",
      "tensor(1.6092, device='cuda:0', grad_fn=<NllLossBackward>)\n",
      "tensor(1.6093, device='cuda:0', grad_fn=<NllLossBackward>)\n",
      "*****Iter 150*****\n",
      "Train Loss: 1.6092653274536133 Test Loss: 1.609391212463379\n",
      "Test Accuracy 0.21250000596046448\n",
      "tensor(1.6096, device='cuda:0', grad_fn=<NllLossBackward>)\n",
      "tensor(1.6097, device='cuda:0', grad_fn=<NllLossBackward>)\n",
      "tensor(1.6094, device='cuda:0', grad_fn=<NllLossBackward>)\n",
      "tensor(1.6090, device='cuda:0', grad_fn=<NllLossBackward>)\n",
      "tensor(1.6099, device='cuda:0', grad_fn=<NllLossBackward>)\n",
      "tensor(1.6093, device='cuda:0', grad_fn=<NllLossBackward>)\n",
      "tensor(1.6109, device='cuda:0', grad_fn=<NllLossBackward>)\n",
      "tensor(1.6094, device='cuda:0', grad_fn=<NllLossBackward>)\n",
      "tensor(1.6087, device='cuda:0', grad_fn=<NllLossBackward>)\n",
      "tensor(1.6101, device='cuda:0', grad_fn=<NllLossBackward>)\n",
      "tensor(1.6094, device='cuda:0', grad_fn=<NllLossBackward>)\n",
      "tensor(1.6096, device='cuda:0', grad_fn=<NllLossBackward>)\n",
      "tensor(1.6093, device='cuda:0', grad_fn=<NllLossBackward>)\n",
      "tensor(1.6100, device='cuda:0', grad_fn=<NllLossBackward>)\n",
      "tensor(1.6095, device='cuda:0', grad_fn=<NllLossBackward>)\n",
      "tensor(1.6091, device='cuda:0', grad_fn=<NllLossBackward>)\n",
      "tensor(1.6087, device='cuda:0', grad_fn=<NllLossBackward>)\n",
      "tensor(1.6091, device='cuda:0', grad_fn=<NllLossBackward>)\n",
      "tensor(1.6088, device='cuda:0', grad_fn=<NllLossBackward>)\n",
      "tensor(1.6092, device='cuda:0', grad_fn=<NllLossBackward>)\n",
      "tensor(1.6099, device='cuda:0', grad_fn=<NllLossBackward>)\n",
      "tensor(1.6097, device='cuda:0', grad_fn=<NllLossBackward>)\n",
      "tensor(1.6092, device='cuda:0', grad_fn=<NllLossBackward>)\n",
      "tensor(1.6099, device='cuda:0', grad_fn=<NllLossBackward>)\n",
      "tensor(1.6097, device='cuda:0', grad_fn=<NllLossBackward>)\n",
      "tensor(1.6096, device='cuda:0', grad_fn=<NllLossBackward>)\n",
      "tensor(1.6092, device='cuda:0', grad_fn=<NllLossBackward>)\n",
      "tensor(1.6093, device='cuda:0', grad_fn=<NllLossBackward>)\n",
      "tensor(1.6095, device='cuda:0', grad_fn=<NllLossBackward>)\n",
      "tensor(1.6094, device='cuda:0', grad_fn=<NllLossBackward>)\n",
      "tensor(1.6095, device='cuda:0', grad_fn=<NllLossBackward>)\n",
      "tensor(1.6091, device='cuda:0', grad_fn=<NllLossBackward>)\n",
      "tensor(1.6096, device='cuda:0', grad_fn=<NllLossBackward>)\n",
      "tensor(1.6090, device='cuda:0', grad_fn=<NllLossBackward>)\n",
      "tensor(1.6097, device='cuda:0', grad_fn=<NllLossBackward>)\n",
      "tensor(1.6088, device='cuda:0', grad_fn=<NllLossBackward>)\n",
      "tensor(1.6101, device='cuda:0', grad_fn=<NllLossBackward>)\n",
      "tensor(1.6103, device='cuda:0', grad_fn=<NllLossBackward>)\n",
      "tensor(1.6097, device='cuda:0', grad_fn=<NllLossBackward>)\n",
      "tensor(1.6090, device='cuda:0', grad_fn=<NllLossBackward>)\n",
      "tensor(1.6092, device='cuda:0', grad_fn=<NllLossBackward>)\n",
      "tensor(1.6095, device='cuda:0', grad_fn=<NllLossBackward>)\n",
      "tensor(1.6093, device='cuda:0', grad_fn=<NllLossBackward>)\n",
      "tensor(1.6087, device='cuda:0', grad_fn=<NllLossBackward>)\n",
      "tensor(1.6099, device='cuda:0', grad_fn=<NllLossBackward>)\n",
      "tensor(1.6090, device='cuda:0', grad_fn=<NllLossBackward>)\n",
      "tensor(1.6093, device='cuda:0', grad_fn=<NllLossBackward>)\n",
      "tensor(1.6095, device='cuda:0', grad_fn=<NllLossBackward>)\n",
      "tensor(1.6093, device='cuda:0', grad_fn=<NllLossBackward>)\n",
      "tensor(1.6097, device='cuda:0', grad_fn=<NllLossBackward>)\n",
      "*****Iter 200*****\n",
      "Train Loss: 1.6097036600112915 Test Loss: 1.609856367111206\n",
      "Test Accuracy 0.18906250596046448\n",
      "tensor(1.6099, device='cuda:0', grad_fn=<NllLossBackward>)\n",
      "tensor(1.6089, device='cuda:0', grad_fn=<NllLossBackward>)\n",
      "tensor(1.6091, device='cuda:0', grad_fn=<NllLossBackward>)\n",
      "tensor(1.6101, device='cuda:0', grad_fn=<NllLossBackward>)\n",
      "tensor(1.6099, device='cuda:0', grad_fn=<NllLossBackward>)\n",
      "tensor(1.6098, device='cuda:0', grad_fn=<NllLossBackward>)\n",
      "tensor(1.6090, device='cuda:0', grad_fn=<NllLossBackward>)\n",
      "tensor(1.6086, device='cuda:0', grad_fn=<NllLossBackward>)\n",
      "tensor(1.6092, device='cuda:0', grad_fn=<NllLossBackward>)\n",
      "tensor(1.6096, device='cuda:0', grad_fn=<NllLossBackward>)\n",
      "tensor(1.6100, device='cuda:0', grad_fn=<NllLossBackward>)\n",
      "tensor(1.6092, device='cuda:0', grad_fn=<NllLossBackward>)\n",
      "tensor(1.6094, device='cuda:0', grad_fn=<NllLossBackward>)\n",
      "tensor(1.6095, device='cuda:0', grad_fn=<NllLossBackward>)\n",
      "tensor(1.6085, device='cuda:0', grad_fn=<NllLossBackward>)\n",
      "tensor(1.6098, device='cuda:0', grad_fn=<NllLossBackward>)\n",
      "tensor(1.6081, device='cuda:0', grad_fn=<NllLossBackward>)\n",
      "tensor(1.6093, device='cuda:0', grad_fn=<NllLossBackward>)\n",
      "tensor(1.6091, device='cuda:0', grad_fn=<NllLossBackward>)\n",
      "tensor(1.6085, device='cuda:0', grad_fn=<NllLossBackward>)\n",
      "tensor(1.6085, device='cuda:0', grad_fn=<NllLossBackward>)\n",
      "tensor(1.6105, device='cuda:0', grad_fn=<NllLossBackward>)\n",
      "tensor(1.6093, device='cuda:0', grad_fn=<NllLossBackward>)\n",
      "tensor(1.6074, device='cuda:0', grad_fn=<NllLossBackward>)\n",
      "tensor(1.6100, device='cuda:0', grad_fn=<NllLossBackward>)\n",
      "tensor(1.6105, device='cuda:0', grad_fn=<NllLossBackward>)\n",
      "tensor(1.6093, device='cuda:0', grad_fn=<NllLossBackward>)\n",
      "tensor(1.6106, device='cuda:0', grad_fn=<NllLossBackward>)\n",
      "tensor(1.6107, device='cuda:0', grad_fn=<NllLossBackward>)\n",
      "tensor(1.6104, device='cuda:0', grad_fn=<NllLossBackward>)\n",
      "tensor(1.6100, device='cuda:0', grad_fn=<NllLossBackward>)\n",
      "tensor(1.6092, device='cuda:0', grad_fn=<NllLossBackward>)\n",
      "tensor(1.6091, device='cuda:0', grad_fn=<NllLossBackward>)\n",
      "tensor(1.6088, device='cuda:0', grad_fn=<NllLossBackward>)\n",
      "tensor(1.6097, device='cuda:0', grad_fn=<NllLossBackward>)\n",
      "tensor(1.6091, device='cuda:0', grad_fn=<NllLossBackward>)\n",
      "tensor(1.6096, device='cuda:0', grad_fn=<NllLossBackward>)\n",
      "tensor(1.6099, device='cuda:0', grad_fn=<NllLossBackward>)\n",
      "tensor(1.6099, device='cuda:0', grad_fn=<NllLossBackward>)\n",
      "tensor(1.6096, device='cuda:0', grad_fn=<NllLossBackward>)\n",
      "tensor(1.6097, device='cuda:0', grad_fn=<NllLossBackward>)\n",
      "tensor(1.6090, device='cuda:0', grad_fn=<NllLossBackward>)\n",
      "tensor(1.6100, device='cuda:0', grad_fn=<NllLossBackward>)\n",
      "tensor(1.6100, device='cuda:0', grad_fn=<NllLossBackward>)\n",
      "tensor(1.6099, device='cuda:0', grad_fn=<NllLossBackward>)\n"
     ]
    }
   ],
   "source": [
    "model = MANN(N, K+1).to(device)\n",
    "data_generator = DataGenerator(N, K+1)\n",
    "\n",
    "criterion = torch.nn.CrossEntropyLoss()\n",
    "optimizer = torch.optim.Adam(params=model.parameters(), lr=0.0001)\n",
    "\n",
    "train(model, data_generator, optimizer, criterion, device)"
   ]
  },
  {
   "cell_type": "code",
   "execution_count": 45,
   "metadata": {},
   "outputs": [
    {
     "name": "stdout",
     "output_type": "stream",
     "text": [
      "hw1.py           load_data_pytorch.py  \u001b[0m\u001b[01;34mmodels\u001b[0m/            resize_images.py\r\n",
      "load_data.ipynb  mann_pytorch.ipynb    \u001b[01;34momniglot_resized\u001b[0m/  \u001b[01;34mruns\u001b[0m/\r\n",
      "load_data.py     mann_pytorch.py       \u001b[01;34m__pycache__\u001b[0m/\r\n"
     ]
    }
   ],
   "source": []
  },
  {
   "cell_type": "code",
   "execution_count": null,
   "metadata": {},
   "outputs": [],
   "source": []
  }
 ],
 "metadata": {
  "kernelspec": {
   "display_name": "Python 3",
   "language": "python",
   "name": "python3"
  },
  "language_info": {
   "codemirror_mode": {
    "name": "ipython",
    "version": 3
   },
   "file_extension": ".py",
   "mimetype": "text/x-python",
   "name": "python",
   "nbconvert_exporter": "python",
   "pygments_lexer": "ipython3",
   "version": "3.7.6"
  }
 },
 "nbformat": 4,
 "nbformat_minor": 2
}
